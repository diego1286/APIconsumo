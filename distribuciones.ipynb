{
  "nbformat": 4,
  "nbformat_minor": 0,
  "metadata": {
    "colab": {
      "provenance": [],
      "include_colab_link": true
    },
    "kernelspec": {
      "name": "python3",
      "display_name": "Python 3"
    },
    "language_info": {
      "name": "python"
    }
  },
  "cells": [
    {
      "cell_type": "markdown",
      "metadata": {
        "id": "view-in-github",
        "colab_type": "text"
      },
      "source": [
        "<a href=\"https://colab.research.google.com/github/diego1286/APIconsumo/blob/main/distribuciones.ipynb\" target=\"_parent\"><img src=\"https://colab.research.google.com/assets/colab-badge.svg\" alt=\"Open In Colab\"/></a>"
      ]
    },
    {
      "cell_type": "code",
      "execution_count": null,
      "metadata": {
        "id": "iBcbGwJCPsV0"
      },
      "outputs": [],
      "source": []
    },
    {
      "cell_type": "code",
      "source": [
        "import matplotlib.pyplot as plt\n"
      ],
      "metadata": {
        "id": "d7Oam9tSEdc1"
      },
      "execution_count": null,
      "outputs": []
    },
    {
      "cell_type": "code",
      "source": [
        "import numpy as np"
      ],
      "metadata": {
        "id": "uwJ_3LYtEgz1"
      },
      "execution_count": null,
      "outputs": []
    },
    {
      "cell_type": "code",
      "source": [
        "import scipy.stats as stats\n"
      ],
      "metadata": {
        "id": "ND7xRzNwPviX"
      },
      "execution_count": null,
      "outputs": []
    },
    {
      "cell_type": "code",
      "source": [
        "#Crear objeto de distribución binomial siendo n # de ensayos y p la probabilidad de éxito\n",
        "binomial=stats.binom(5,0.5)"
      ],
      "metadata": {
        "id": "Dr5gXil3RMUh"
      },
      "execution_count": null,
      "outputs": []
    },
    {
      "cell_type": "code",
      "source": [
        "#Probabilidad de obtener k éxitos\n",
        "k=3\n",
        "probabilidad=binomial.pmf(k)\n",
        "print(probabilidad)"
      ],
      "metadata": {
        "colab": {
          "base_uri": "https://localhost:8080/"
        },
        "id": "ux-liEdrRixV",
        "outputId": "6371aa89-52da-4d82-d382-244419a73bf1"
      },
      "execution_count": null,
      "outputs": [
        {
          "output_type": "stream",
          "name": "stdout",
          "text": [
            "0.31249999999999983\n"
          ]
        }
      ]
    },
    {
      "cell_type": "code",
      "source": [
        "#Probabilidad acumulada\n",
        "probacumulada=binomial.cdf(2)\n",
        "print(probacumulada)"
      ],
      "metadata": {
        "colab": {
          "base_uri": "https://localhost:8080/"
        },
        "id": "44qtRqJESYxp",
        "outputId": "499d884f-612d-458d-ad83-1f7926a58785"
      },
      "execution_count": null,
      "outputs": [
        {
          "output_type": "stream",
          "name": "stdout",
          "text": [
            "0.5\n"
          ]
        }
      ]
    },
    {
      "cell_type": "code",
      "source": [
        "#Crear objeto de distribución hipergeométrica siendo N tamaño total de la población\n",
        "#k número de éxitos- n tamaño de muestra\n",
        "hipergeometrica=stats.hypergeom(16,10,3)\n"
      ],
      "metadata": {
        "id": "Ka8_2-T3S2R2"
      },
      "execution_count": null,
      "outputs": []
    },
    {
      "cell_type": "code",
      "source": [
        "#Probabilidad de obtener x éxitos\n",
        "probabilidadh=hipergeometrica.pmf(0)\n",
        "print(probabilidadh)"
      ],
      "metadata": {
        "colab": {
          "base_uri": "https://localhost:8080/"
        },
        "id": "Kl3RAh3VUX3m",
        "outputId": "2e4a6844-ce18-4f34-c392-74fa3134c129"
      },
      "execution_count": null,
      "outputs": [
        {
          "output_type": "stream",
          "name": "stdout",
          "text": [
            "0.03571428571428572\n"
          ]
        }
      ]
    },
    {
      "cell_type": "code",
      "source": [
        "#Probibidad acumulada de la distribución hipergeométrica\n",
        "probacumh=hipergeometrica.cdf(2)\n",
        "print(probacumh)"
      ],
      "metadata": {
        "colab": {
          "base_uri": "https://localhost:8080/"
        },
        "id": "1tMuVkGzUm26",
        "outputId": "bd71cb44-ae50-4005-9ef2-610c231ce094"
      },
      "execution_count": null,
      "outputs": [
        {
          "output_type": "stream",
          "name": "stdout",
          "text": [
            "0.7857142857142857\n"
          ]
        }
      ]
    },
    {
      "cell_type": "code",
      "source": [
        "#Crear objeto de distribución Poisson\n",
        "Poisson=stats.poisson(4)\n"
      ],
      "metadata": {
        "id": "EdCeVtiJEmM8"
      },
      "execution_count": null,
      "outputs": []
    },
    {
      "cell_type": "code",
      "source": [
        "#Probabilidad de obtener x éxitos\n",
        "probabilidadPoisson=Poisson.pmf(0)\n",
        "print(probabilidadPoisson)"
      ],
      "metadata": {
        "colab": {
          "base_uri": "https://localhost:8080/"
        },
        "id": "eDCYwViDIEW9",
        "outputId": "cf3da2bd-c6ad-4143-d7cc-afa515d1aea5"
      },
      "execution_count": null,
      "outputs": [
        {
          "output_type": "stream",
          "name": "stdout",
          "text": [
            "0.01831563888873418\n"
          ]
        }
      ]
    },
    {
      "cell_type": "code",
      "source": [
        "#Probibidad acumulada de la distribución Poisson\n",
        "probacumPoisson=Poisson.cdf(2)\n",
        "print(probacumPoisson)"
      ],
      "metadata": {
        "colab": {
          "base_uri": "https://localhost:8080/"
        },
        "id": "SxnycJMOIgr0",
        "outputId": "a2504647-53a2-4c58-a67c-98145b09d8eb"
      },
      "execution_count": null,
      "outputs": [
        {
          "output_type": "stream",
          "name": "stdout",
          "text": [
            "0.23810330555354436\n"
          ]
        }
      ]
    },
    {
      "cell_type": "code",
      "source": [
        "from scipy.stats import norm"
      ],
      "metadata": {
        "id": "xRfuvFwEI861"
      },
      "execution_count": null,
      "outputs": []
    },
    {
      "cell_type": "code",
      "source": [
        "1-norm.cdf(60, loc=70, scale=3)"
      ],
      "metadata": {
        "colab": {
          "base_uri": "https://localhost:8080/"
        },
        "id": "UK4mMR71KKAE",
        "outputId": "c36812ff-8112-4edb-e113-ce4e5b153e0b"
      },
      "execution_count": null,
      "outputs": [
        {
          "output_type": "execute_result",
          "data": {
            "text/plain": [
              "0.9995709396668032"
            ]
          },
          "metadata": {},
          "execution_count": 32
        }
      ]
    },
    {
      "cell_type": "code",
      "source": [
        "norm.cdf(75, loc=70, scale=3)"
      ],
      "metadata": {
        "colab": {
          "base_uri": "https://localhost:8080/"
        },
        "id": "Fw9IeE_VjvCL",
        "outputId": "a8fdc0de-cb23-481c-b5a6-e08d749f8dcd"
      },
      "execution_count": null,
      "outputs": [
        {
          "output_type": "execute_result",
          "data": {
            "text/plain": [
              "0.9522096477271853"
            ]
          },
          "metadata": {},
          "execution_count": 30
        }
      ]
    },
    {
      "cell_type": "code",
      "source": [
        "import numpy as np\n",
        "\n",
        "Z=1.96\n",
        "p=0.05\n",
        "q=1-p\n",
        "N=1200\n",
        "e=0.03\n",
        "n=(Z**2*N*p*q)/(e**2*(N-1)+Z**2*p*q)\n",
        "n\n",
        "print(round(n))"
      ],
      "metadata": {
        "colab": {
          "base_uri": "https://localhost:8080/"
        },
        "id": "7Ljv48zVNyGF",
        "outputId": "cdb017b8-b418-4529-98de-4a96204c977d"
      },
      "execution_count": null,
      "outputs": [
        {
          "output_type": "stream",
          "name": "stdout",
          "text": [
            "174\n"
          ]
        }
      ]
    },
    {
      "cell_type": "code",
      "source": [
        "import random\n",
        "# Lista de ejemplo\n",
        "mi_lista = list(range(1, 101))\n",
        "\n",
        "# Tamaño de la muestra\n",
        "tamano_muestra = 10\n",
        "\n",
        "# Obtener una muestra aleatoria sin reemplazo\n",
        "muestra_sin_reemplazo = random.sample(mi_lista, tamano_muestra)\n",
        "print(muestra_sin_reemplazo)"
      ],
      "metadata": {
        "colab": {
          "base_uri": "https://localhost:8080/"
        },
        "id": "tweIKHPCUWtT",
        "outputId": "664a67fd-859a-4b5b-e3c3-f098b5a71566"
      },
      "execution_count": null,
      "outputs": [
        {
          "output_type": "stream",
          "name": "stdout",
          "text": [
            "[14, 43, 8, 73, 25, 74, 37, 48, 59, 28]\n"
          ]
        }
      ]
    },
    {
      "cell_type": "code",
      "source": [
        "\n",
        "# Graficando Poisson\n",
        "# parametro de forma\n",
        "mu =  3.6\n",
        "poisson = stats.poisson(mu)\n",
        "x = np.arange(0,9)\n",
        "fmp = poisson.pmf(x) # Función de Masa de Probabilidad\n",
        "plt.plot(x, fmp, '--')\n",
        "plt.vlines(x, 0, fmp, colors='b', lw=5, alpha=0.5)\n",
        "plt.title('Distribución Poisson')\n",
        "plt.ylabel('probabilidad')\n",
        "plt.xlabel('valores')\n",
        "plt.show()"
      ],
      "metadata": {
        "id": "9IX-Kk8bkkQw",
        "colab": {
          "base_uri": "https://localhost:8080/",
          "height": 472
        },
        "outputId": "6289c327-96e6-4374-cf91-b59b99560a56"
      },
      "execution_count": null,
      "outputs": [
        {
          "output_type": "display_data",
          "data": {
            "text/plain": [
              "<Figure size 640x480 with 1 Axes>"
            ],
            "image/png": "[encoded data removed]"
          },
          "metadata": {}
        }
      ]
    },
    {
      "cell_type": "code",
      "source": [
        "print(poisson.pmf(0)+poisson.pmf(1))"
      ],
      "metadata": {
        "colab": {
          "base_uri": "https://localhost:8080/"
        },
        "id": "PQxmibjOtYpc",
        "outputId": "74886f5b-4067-48d2-cf7b-28b1680882ae"
      },
      "execution_count": null,
      "outputs": [
        {
          "output_type": "stream",
          "name": "stdout",
          "text": [
            "0.12568912325754578\n"
          ]
        }
      ]
    },
    {
      "cell_type": "code",
      "source": [
        "mu =  3.6\n",
        "poisson = stats.poisson(mu)\n",
        "x = np.arange(0,9)\n",
        "fda_poisson =poisson.cdf(x) # Función de Distribución Acumulada\n",
        "plt.plot(x, fda_poisson, label='FDA Poisson')\n",
        "plt.title('Función de Distribución Acumulada')\n",
        "plt.ylabel('probabilidad')\n",
        "plt.xlabel('valores')\n",
        "plt.legend(loc=4)\n",
        "plt.show()"
      ],
      "metadata": {
        "colab": {
          "base_uri": "https://localhost:8080/",
          "height": 472
        },
        "id": "e9iqi294GrGC",
        "outputId": "a58cc63c-1512-4852-a365-4550d803a4e8"
      },
      "execution_count": null,
      "outputs": [
        {
          "output_type": "display_data",
          "data": {
            "text/plain": [
              "<Figure size 640x480 with 1 Axes>"
            ],
            "image/png": "[encoded data removed]"
          },
          "metadata": {}
        }
      ]
    },
    {
      "cell_type": "code",
      "source": [
        "print(poisson.cdf(1))"
      ],
      "metadata": {
        "colab": {
          "base_uri": "https://localhost:8080/"
        },
        "id": "E9y4Q4_zuL-V",
        "outputId": "37573e41-acd0-4a89-acb7-faa22b953781"
      },
      "execution_count": null,
      "outputs": [
        {
          "output_type": "stream",
          "name": "stdout",
          "text": [
            "0.12568912325754575\n"
          ]
        }
      ]
    }
  ]
}